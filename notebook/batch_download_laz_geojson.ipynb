{
 "cells": [
  {
   "cell_type": "code",
   "execution_count": 1,
   "id": "0b601257",
   "metadata": {},
   "outputs": [],
   "source": [
    "#!pip install beautifulsoup4\n",
    "#!pip install geopandas\n",
    "#!pip install tqdm\n",
    "#!pip install requests"
   ]
  },
  {
   "cell_type": "code",
   "execution_count": 2,
   "id": "195e94e3",
   "metadata": {},
   "outputs": [],
   "source": [
    "# Import necessary libraries\n",
    "import geopandas as gpd\n",
    "import requests\n",
    "import os\n",
    "from bs4 import BeautifulSoup\n",
    "from tqdm import tqdm\n",
    "import urllib3\n"
   ]
  },
  {
   "cell_type": "code",
   "execution_count": 3,
   "id": "b3672cea",
   "metadata": {},
   "outputs": [],
   "source": [
    "# --- Configuration ---\n",
    "input_dir = r\"C:\\Users\\USFJ139860\\OneDrive - WSP O365\\Sharing\\20250507 - For Shawn\\SabineRiver_A4_2018\"\n",
    "save_dir = os.path.join(input_dir, \"downloaded_files\")\n",
    "\n",
    "\n",
    "os.makedirs(save_dir, exist_ok=True)\n",
    "headers = {\n",
    "    \"User-Agent\": \"Mozilla/5.0\"\n",
    "}"
   ]
  },
  {
   "cell_type": "code",
   "execution_count": 4,
   "id": "cee40b8b",
   "metadata": {},
   "outputs": [],
   "source": [
    "# --- Helper Functions ---\n",
    "def find_geojson_and_txt(folder):\n",
    "    geojson_path = None\n",
    "    txt_path = None\n",
    "\n",
    "    for fname in os.listdir(folder):\n",
    "        if fname.endswith('.geojson') and not geojson_path:\n",
    "            geojson_path = os.path.join(folder, fname)\n",
    "        elif fname.endswith('.txt') and not txt_path:\n",
    "            txt_path = os.path.join(folder, fname)\n",
    "\n",
    "    if not geojson_path or not txt_path:\n",
    "        raise FileNotFoundError(\"Missing .geojson or .txt file in the directory.\")\n",
    "    \n",
    "    print(f\"✅ {os.path.basename(geojson_path)}\")\n",
    "    print(f\"✅ {os.path.basename(txt_path)}\")\n",
    "    \n",
    "    return geojson_path, txt_path\n",
    "\n",
    "def read_base_url(txt_path):\n",
    "    with open(txt_path, 'r') as f:\n",
    "        return f.read().strip()\n",
    "\n",
    "def read_geojson(path):\n",
    "    return gpd.read_file(path)\n",
    "\n",
    "def get_tile_links(url):\n",
    "    print(\"⏳Fetching available tile links...\")\n",
    "    resp = requests.get(url, headers=headers, verify=False, timeout=15)\n",
    "    soup = BeautifulSoup(resp.text, 'html.parser')\n",
    "    return [a['href'] for a in soup.find_all('a', href=True) if a['href'].endswith('.laz')]\n",
    "\n",
    "def download_tile(tile_name, links, base_url, dest_folder):\n",
    "    match = next((l for l in links if tile_name in l), None)\n",
    "    if not match:\n",
    "        print(f\"❌ Tile not found: {tile_name}\")\n",
    "        return\n",
    "\n",
    "    full_url = base_url + match\n",
    "    dest_path = os.path.join(dest_folder, f\"{tile_name}.laz\")\n",
    "    if os.path.exists(dest_path):\n",
    "        print(f\"⚠️ Already exists, skipping: {tile_name}\")\n",
    "        return\n",
    "\n",
    "    r = requests.get(full_url, headers=headers, verify=False, timeout=15)\n",
    "    with open(dest_path, 'wb') as f:\n",
    "        f.write(r.content)\n",
    "    print(f\"✅ Downloaded: {tile_name}\")"
   ]
  },
  {
   "cell_type": "code",
   "execution_count": 5,
   "id": "59c09874",
   "metadata": {},
   "outputs": [
    {
     "name": "stdout",
     "output_type": "stream",
     "text": [
      "✅ SabineRiver_A4_2018_TileIndex.geojson\n",
      "✅ SabineRiver_A4_2018_link.txt\n",
      "⏳Fetching available tile links...\n",
      "🌐https://rockyweb.usgs.gov/vdelivery/Datasets/Staged/Elevation/LPC/Projects/LA_Sabine_River_Lidar_2018_D18/LA_Sabine_River_Lidar_A4_2018/LAZ/\n"
     ]
    },
    {
     "data": {
      "text/html": [
       "<div>\n",
       "<style scoped>\n",
       "    .dataframe tbody tr th:only-of-type {\n",
       "        vertical-align: middle;\n",
       "    }\n",
       "\n",
       "    .dataframe tbody tr th {\n",
       "        vertical-align: top;\n",
       "    }\n",
       "\n",
       "    .dataframe thead th {\n",
       "        text-align: right;\n",
       "    }\n",
       "</style>\n",
       "<table border=\"1\" class=\"dataframe\">\n",
       "  <thead>\n",
       "    <tr style=\"text-align: right;\">\n",
       "      <th></th>\n",
       "      <th>USNG</th>\n",
       "      <th>WP_ID</th>\n",
       "      <th>WU_ID</th>\n",
       "      <th>WU_Name</th>\n",
       "      <th>geometry</th>\n",
       "    </tr>\n",
       "  </thead>\n",
       "  <tbody>\n",
       "    <tr>\n",
       "      <th>0</th>\n",
       "      <td>15RWQ0618</td>\n",
       "      <td>75813</td>\n",
       "      <td>75820</td>\n",
       "      <td>LA_SabineRiver_A4_2018</td>\n",
       "      <td>MULTIPOLYGON (((507000 3418000, 506000 3418000...</td>\n",
       "    </tr>\n",
       "    <tr>\n",
       "      <th>1</th>\n",
       "      <td>15RWQ1218</td>\n",
       "      <td>75813</td>\n",
       "      <td>75820</td>\n",
       "      <td>LA_SabineRiver_A4_2018</td>\n",
       "      <td>MULTIPOLYGON (((513000 3418000, 512000 3418000...</td>\n",
       "    </tr>\n",
       "    <tr>\n",
       "      <th>2</th>\n",
       "      <td>15RWQ0818</td>\n",
       "      <td>75813</td>\n",
       "      <td>75820</td>\n",
       "      <td>LA_SabineRiver_A4_2018</td>\n",
       "      <td>MULTIPOLYGON (((508000 3419000, 509000 3419000...</td>\n",
       "    </tr>\n",
       "    <tr>\n",
       "      <th>3</th>\n",
       "      <td>15RWQ0819</td>\n",
       "      <td>75813</td>\n",
       "      <td>75820</td>\n",
       "      <td>LA_SabineRiver_A4_2018</td>\n",
       "      <td>MULTIPOLYGON (((509000 3419000, 508000 3419000...</td>\n",
       "    </tr>\n",
       "    <tr>\n",
       "      <th>4</th>\n",
       "      <td>15RWQ1319</td>\n",
       "      <td>75813</td>\n",
       "      <td>75820</td>\n",
       "      <td>LA_SabineRiver_A4_2018</td>\n",
       "      <td>MULTIPOLYGON (((514000 3419000, 513000 3419000...</td>\n",
       "    </tr>\n",
       "    <tr>\n",
       "      <th>5</th>\n",
       "      <td>15RWQ0719</td>\n",
       "      <td>75813</td>\n",
       "      <td>75820</td>\n",
       "      <td>LA_SabineRiver_A4_2018</td>\n",
       "      <td>MULTIPOLYGON (((508000 3419000, 507000 3419000...</td>\n",
       "    </tr>\n",
       "    <tr>\n",
       "      <th>6</th>\n",
       "      <td>15RWQ1419</td>\n",
       "      <td>75813</td>\n",
       "      <td>75820</td>\n",
       "      <td>LA_SabineRiver_A4_2018</td>\n",
       "      <td>MULTIPOLYGON (((514000 3419000, 514000 3420000...</td>\n",
       "    </tr>\n",
       "    <tr>\n",
       "      <th>7</th>\n",
       "      <td>15RWQ1318</td>\n",
       "      <td>75813</td>\n",
       "      <td>75820</td>\n",
       "      <td>LA_SabineRiver_A4_2018</td>\n",
       "      <td>MULTIPOLYGON (((514000 3419000, 514000 3418000...</td>\n",
       "    </tr>\n",
       "    <tr>\n",
       "      <th>8</th>\n",
       "      <td>15RWQ1019</td>\n",
       "      <td>75813</td>\n",
       "      <td>75820</td>\n",
       "      <td>LA_SabineRiver_A4_2018</td>\n",
       "      <td>MULTIPOLYGON (((511000 3419000, 510000 3419000...</td>\n",
       "    </tr>\n",
       "    <tr>\n",
       "      <th>9</th>\n",
       "      <td>15RWQ1118</td>\n",
       "      <td>75813</td>\n",
       "      <td>75820</td>\n",
       "      <td>LA_SabineRiver_A4_2018</td>\n",
       "      <td>MULTIPOLYGON (((512000 3418000, 511000 3418000...</td>\n",
       "    </tr>\n",
       "    <tr>\n",
       "      <th>10</th>\n",
       "      <td>15RWQ1220</td>\n",
       "      <td>75813</td>\n",
       "      <td>75820</td>\n",
       "      <td>LA_SabineRiver_A4_2018</td>\n",
       "      <td>MULTIPOLYGON (((513000 3420000, 512000 3420000...</td>\n",
       "    </tr>\n",
       "    <tr>\n",
       "      <th>11</th>\n",
       "      <td>15RWQ1418</td>\n",
       "      <td>75813</td>\n",
       "      <td>75820</td>\n",
       "      <td>LA_SabineRiver_A4_2018</td>\n",
       "      <td>MULTIPOLYGON (((515000 3418000, 514000 3418000...</td>\n",
       "    </tr>\n",
       "    <tr>\n",
       "      <th>12</th>\n",
       "      <td>15RWQ0920</td>\n",
       "      <td>75813</td>\n",
       "      <td>75820</td>\n",
       "      <td>LA_SabineRiver_A4_2018</td>\n",
       "      <td>MULTIPOLYGON (((510000 3421000, 510000 3420000...</td>\n",
       "    </tr>\n",
       "    <tr>\n",
       "      <th>13</th>\n",
       "      <td>15RWQ1420</td>\n",
       "      <td>75813</td>\n",
       "      <td>75820</td>\n",
       "      <td>LA_SabineRiver_A4_2018</td>\n",
       "      <td>MULTIPOLYGON (((514000 3420000, 514000 3421000...</td>\n",
       "    </tr>\n",
       "    <tr>\n",
       "      <th>14</th>\n",
       "      <td>15RWQ0518</td>\n",
       "      <td>75813</td>\n",
       "      <td>75820</td>\n",
       "      <td>LA_SabineRiver_A4_2018</td>\n",
       "      <td>MULTIPOLYGON (((506000 3418000, 505000 3418000...</td>\n",
       "    </tr>\n",
       "    <tr>\n",
       "      <th>15</th>\n",
       "      <td>15RWQ1320</td>\n",
       "      <td>75813</td>\n",
       "      <td>75820</td>\n",
       "      <td>LA_SabineRiver_A4_2018</td>\n",
       "      <td>MULTIPOLYGON (((514000 3420000, 513000 3420000...</td>\n",
       "    </tr>\n",
       "    <tr>\n",
       "      <th>16</th>\n",
       "      <td>15RWQ0919</td>\n",
       "      <td>75813</td>\n",
       "      <td>75820</td>\n",
       "      <td>LA_SabineRiver_A4_2018</td>\n",
       "      <td>MULTIPOLYGON (((510000 3419000, 509000 3419000...</td>\n",
       "    </tr>\n",
       "    <tr>\n",
       "      <th>17</th>\n",
       "      <td>15RWQ1119</td>\n",
       "      <td>75813</td>\n",
       "      <td>75820</td>\n",
       "      <td>LA_SabineRiver_A4_2018</td>\n",
       "      <td>MULTIPOLYGON (((512000 3419000, 511000 3419000...</td>\n",
       "    </tr>\n",
       "    <tr>\n",
       "      <th>18</th>\n",
       "      <td>15RWQ1520</td>\n",
       "      <td>75813</td>\n",
       "      <td>75820</td>\n",
       "      <td>LA_SabineRiver_A4_2018</td>\n",
       "      <td>MULTIPOLYGON (((516000 3420000, 515000 3420000...</td>\n",
       "    </tr>\n",
       "    <tr>\n",
       "      <th>19</th>\n",
       "      <td>15RWQ0820</td>\n",
       "      <td>75813</td>\n",
       "      <td>75820</td>\n",
       "      <td>LA_SabineRiver_A4_2018</td>\n",
       "      <td>MULTIPOLYGON (((509000 3420000, 508000 3420000...</td>\n",
       "    </tr>\n",
       "    <tr>\n",
       "      <th>20</th>\n",
       "      <td>15RWQ1020</td>\n",
       "      <td>75813</td>\n",
       "      <td>75820</td>\n",
       "      <td>LA_SabineRiver_A4_2018</td>\n",
       "      <td>MULTIPOLYGON (((511000 3420000, 510000 3420000...</td>\n",
       "    </tr>\n",
       "    <tr>\n",
       "      <th>21</th>\n",
       "      <td>15RWQ1518</td>\n",
       "      <td>75813</td>\n",
       "      <td>75820</td>\n",
       "      <td>LA_SabineRiver_A4_2018</td>\n",
       "      <td>MULTIPOLYGON (((516000 3418000, 515000 3418000...</td>\n",
       "    </tr>\n",
       "    <tr>\n",
       "      <th>22</th>\n",
       "      <td>15RWQ0918</td>\n",
       "      <td>75813</td>\n",
       "      <td>75820</td>\n",
       "      <td>LA_SabineRiver_A4_2018</td>\n",
       "      <td>MULTIPOLYGON (((510000 3418000, 509000 3418000...</td>\n",
       "    </tr>\n",
       "    <tr>\n",
       "      <th>23</th>\n",
       "      <td>15RWQ0718</td>\n",
       "      <td>75813</td>\n",
       "      <td>75820</td>\n",
       "      <td>LA_SabineRiver_A4_2018</td>\n",
       "      <td>MULTIPOLYGON (((508000 3418000, 507000 3418000...</td>\n",
       "    </tr>\n",
       "    <tr>\n",
       "      <th>24</th>\n",
       "      <td>15RWQ1120</td>\n",
       "      <td>75813</td>\n",
       "      <td>75820</td>\n",
       "      <td>LA_SabineRiver_A4_2018</td>\n",
       "      <td>MULTIPOLYGON (((512000 3420000, 511000 3420000...</td>\n",
       "    </tr>\n",
       "    <tr>\n",
       "      <th>25</th>\n",
       "      <td>15RWQ1219</td>\n",
       "      <td>75813</td>\n",
       "      <td>75820</td>\n",
       "      <td>LA_SabineRiver_A4_2018</td>\n",
       "      <td>MULTIPOLYGON (((513000 3419000, 512000 3419000...</td>\n",
       "    </tr>\n",
       "    <tr>\n",
       "      <th>26</th>\n",
       "      <td>15RWQ0620</td>\n",
       "      <td>75813</td>\n",
       "      <td>75820</td>\n",
       "      <td>LA_SabineRiver_A4_2018</td>\n",
       "      <td>MULTIPOLYGON (((507000 3420000, 506000 3420000...</td>\n",
       "    </tr>\n",
       "    <tr>\n",
       "      <th>27</th>\n",
       "      <td>15RWQ1519</td>\n",
       "      <td>75813</td>\n",
       "      <td>75820</td>\n",
       "      <td>LA_SabineRiver_A4_2018</td>\n",
       "      <td>MULTIPOLYGON (((516000 3419000, 515000 3419000...</td>\n",
       "    </tr>\n",
       "    <tr>\n",
       "      <th>28</th>\n",
       "      <td>15RWQ0520</td>\n",
       "      <td>75813</td>\n",
       "      <td>75820</td>\n",
       "      <td>LA_SabineRiver_A4_2018</td>\n",
       "      <td>MULTIPOLYGON (((506000 3420000, 505000 3420000...</td>\n",
       "    </tr>\n",
       "    <tr>\n",
       "      <th>29</th>\n",
       "      <td>15RWQ0619</td>\n",
       "      <td>75813</td>\n",
       "      <td>75820</td>\n",
       "      <td>LA_SabineRiver_A4_2018</td>\n",
       "      <td>MULTIPOLYGON (((506000 3420000, 507000 3420000...</td>\n",
       "    </tr>\n",
       "    <tr>\n",
       "      <th>30</th>\n",
       "      <td>15RWQ0720</td>\n",
       "      <td>75813</td>\n",
       "      <td>75820</td>\n",
       "      <td>LA_SabineRiver_A4_2018</td>\n",
       "      <td>MULTIPOLYGON (((508000 3420000, 507000 3420000...</td>\n",
       "    </tr>\n",
       "    <tr>\n",
       "      <th>31</th>\n",
       "      <td>15RWQ0519</td>\n",
       "      <td>75813</td>\n",
       "      <td>75820</td>\n",
       "      <td>LA_SabineRiver_A4_2018</td>\n",
       "      <td>MULTIPOLYGON (((506000 3419000, 505000 3419000...</td>\n",
       "    </tr>\n",
       "    <tr>\n",
       "      <th>32</th>\n",
       "      <td>15RWQ1018</td>\n",
       "      <td>75813</td>\n",
       "      <td>75820</td>\n",
       "      <td>LA_SabineRiver_A4_2018</td>\n",
       "      <td>MULTIPOLYGON (((511000 3418000, 510000 3418000...</td>\n",
       "    </tr>\n",
       "  </tbody>\n",
       "</table>\n",
       "</div>"
      ],
      "text/plain": [
       "         USNG  WP_ID  WU_ID                 WU_Name  \\\n",
       "0   15RWQ0618  75813  75820  LA_SabineRiver_A4_2018   \n",
       "1   15RWQ1218  75813  75820  LA_SabineRiver_A4_2018   \n",
       "2   15RWQ0818  75813  75820  LA_SabineRiver_A4_2018   \n",
       "3   15RWQ0819  75813  75820  LA_SabineRiver_A4_2018   \n",
       "4   15RWQ1319  75813  75820  LA_SabineRiver_A4_2018   \n",
       "5   15RWQ0719  75813  75820  LA_SabineRiver_A4_2018   \n",
       "6   15RWQ1419  75813  75820  LA_SabineRiver_A4_2018   \n",
       "7   15RWQ1318  75813  75820  LA_SabineRiver_A4_2018   \n",
       "8   15RWQ1019  75813  75820  LA_SabineRiver_A4_2018   \n",
       "9   15RWQ1118  75813  75820  LA_SabineRiver_A4_2018   \n",
       "10  15RWQ1220  75813  75820  LA_SabineRiver_A4_2018   \n",
       "11  15RWQ1418  75813  75820  LA_SabineRiver_A4_2018   \n",
       "12  15RWQ0920  75813  75820  LA_SabineRiver_A4_2018   \n",
       "13  15RWQ1420  75813  75820  LA_SabineRiver_A4_2018   \n",
       "14  15RWQ0518  75813  75820  LA_SabineRiver_A4_2018   \n",
       "15  15RWQ1320  75813  75820  LA_SabineRiver_A4_2018   \n",
       "16  15RWQ0919  75813  75820  LA_SabineRiver_A4_2018   \n",
       "17  15RWQ1119  75813  75820  LA_SabineRiver_A4_2018   \n",
       "18  15RWQ1520  75813  75820  LA_SabineRiver_A4_2018   \n",
       "19  15RWQ0820  75813  75820  LA_SabineRiver_A4_2018   \n",
       "20  15RWQ1020  75813  75820  LA_SabineRiver_A4_2018   \n",
       "21  15RWQ1518  75813  75820  LA_SabineRiver_A4_2018   \n",
       "22  15RWQ0918  75813  75820  LA_SabineRiver_A4_2018   \n",
       "23  15RWQ0718  75813  75820  LA_SabineRiver_A4_2018   \n",
       "24  15RWQ1120  75813  75820  LA_SabineRiver_A4_2018   \n",
       "25  15RWQ1219  75813  75820  LA_SabineRiver_A4_2018   \n",
       "26  15RWQ0620  75813  75820  LA_SabineRiver_A4_2018   \n",
       "27  15RWQ1519  75813  75820  LA_SabineRiver_A4_2018   \n",
       "28  15RWQ0520  75813  75820  LA_SabineRiver_A4_2018   \n",
       "29  15RWQ0619  75813  75820  LA_SabineRiver_A4_2018   \n",
       "30  15RWQ0720  75813  75820  LA_SabineRiver_A4_2018   \n",
       "31  15RWQ0519  75813  75820  LA_SabineRiver_A4_2018   \n",
       "32  15RWQ1018  75813  75820  LA_SabineRiver_A4_2018   \n",
       "\n",
       "                                             geometry  \n",
       "0   MULTIPOLYGON (((507000 3418000, 506000 3418000...  \n",
       "1   MULTIPOLYGON (((513000 3418000, 512000 3418000...  \n",
       "2   MULTIPOLYGON (((508000 3419000, 509000 3419000...  \n",
       "3   MULTIPOLYGON (((509000 3419000, 508000 3419000...  \n",
       "4   MULTIPOLYGON (((514000 3419000, 513000 3419000...  \n",
       "5   MULTIPOLYGON (((508000 3419000, 507000 3419000...  \n",
       "6   MULTIPOLYGON (((514000 3419000, 514000 3420000...  \n",
       "7   MULTIPOLYGON (((514000 3419000, 514000 3418000...  \n",
       "8   MULTIPOLYGON (((511000 3419000, 510000 3419000...  \n",
       "9   MULTIPOLYGON (((512000 3418000, 511000 3418000...  \n",
       "10  MULTIPOLYGON (((513000 3420000, 512000 3420000...  \n",
       "11  MULTIPOLYGON (((515000 3418000, 514000 3418000...  \n",
       "12  MULTIPOLYGON (((510000 3421000, 510000 3420000...  \n",
       "13  MULTIPOLYGON (((514000 3420000, 514000 3421000...  \n",
       "14  MULTIPOLYGON (((506000 3418000, 505000 3418000...  \n",
       "15  MULTIPOLYGON (((514000 3420000, 513000 3420000...  \n",
       "16  MULTIPOLYGON (((510000 3419000, 509000 3419000...  \n",
       "17  MULTIPOLYGON (((512000 3419000, 511000 3419000...  \n",
       "18  MULTIPOLYGON (((516000 3420000, 515000 3420000...  \n",
       "19  MULTIPOLYGON (((509000 3420000, 508000 3420000...  \n",
       "20  MULTIPOLYGON (((511000 3420000, 510000 3420000...  \n",
       "21  MULTIPOLYGON (((516000 3418000, 515000 3418000...  \n",
       "22  MULTIPOLYGON (((510000 3418000, 509000 3418000...  \n",
       "23  MULTIPOLYGON (((508000 3418000, 507000 3418000...  \n",
       "24  MULTIPOLYGON (((512000 3420000, 511000 3420000...  \n",
       "25  MULTIPOLYGON (((513000 3419000, 512000 3419000...  \n",
       "26  MULTIPOLYGON (((507000 3420000, 506000 3420000...  \n",
       "27  MULTIPOLYGON (((516000 3419000, 515000 3419000...  \n",
       "28  MULTIPOLYGON (((506000 3420000, 505000 3420000...  \n",
       "29  MULTIPOLYGON (((506000 3420000, 507000 3420000...  \n",
       "30  MULTIPOLYGON (((508000 3420000, 507000 3420000...  \n",
       "31  MULTIPOLYGON (((506000 3419000, 505000 3419000...  \n",
       "32  MULTIPOLYGON (((511000 3418000, 510000 3418000...  "
      ]
     },
     "metadata": {},
     "output_type": "display_data"
    }
   ],
   "source": [
    "# Disable SSL warnings\n",
    "urllib3.disable_warnings(urllib3.exceptions.InsecureRequestWarning)\n",
    "# --- Main Execution ---\n",
    "geojson_file, txt_file = find_geojson_and_txt(input_dir)\n",
    "base_url = read_base_url(txt_file)\n",
    "df = read_geojson(geojson_file)\n",
    "links = get_tile_links(base_url)\n",
    "\n",
    "print(f\"🌐{base_url}\")\n",
    "display(df)"
   ]
  },
  {
   "cell_type": "code",
   "execution_count": 6,
   "id": "181f596f",
   "metadata": {},
   "outputs": [
    {
     "name": "stdout",
     "output_type": "stream",
     "text": [
      "Column name: USNG\n"
     ]
    }
   ],
   "source": [
    "column_name = \"USNG\"\n",
    "print(f\"Column name: {column_name}\")"
   ]
  },
  {
   "cell_type": "code",
   "execution_count": 7,
   "id": "f794b548",
   "metadata": {},
   "outputs": [
    {
     "name": "stdout",
     "output_type": "stream",
     "text": [
      "Starting download...\n"
     ]
    },
    {
     "name": "stderr",
     "output_type": "stream",
     "text": [
      "Tiles:   3%|▎         | 1/33 [00:18<09:50, 18.45s/it]"
     ]
    },
    {
     "name": "stdout",
     "output_type": "stream",
     "text": [
      "✅ Downloaded: 15RWQ0618\n"
     ]
    },
    {
     "name": "stderr",
     "output_type": "stream",
     "text": [
      "Tiles:   6%|▌         | 2/33 [00:28<06:51, 13.27s/it]"
     ]
    },
    {
     "name": "stdout",
     "output_type": "stream",
     "text": [
      "✅ Downloaded: 15RWQ1218\n"
     ]
    },
    {
     "name": "stderr",
     "output_type": "stream",
     "text": [
      "Tiles:   9%|▉         | 3/33 [00:37<05:42, 11.43s/it]"
     ]
    },
    {
     "name": "stdout",
     "output_type": "stream",
     "text": [
      "✅ Downloaded: 15RWQ0818\n"
     ]
    },
    {
     "name": "stderr",
     "output_type": "stream",
     "text": [
      "Tiles:  12%|█▏        | 4/33 [00:47<05:17, 10.96s/it]"
     ]
    },
    {
     "name": "stdout",
     "output_type": "stream",
     "text": [
      "✅ Downloaded: 15RWQ0819\n"
     ]
    },
    {
     "name": "stderr",
     "output_type": "stream",
     "text": [
      "Tiles:  15%|█▌        | 5/33 [00:56<04:47, 10.28s/it]"
     ]
    },
    {
     "name": "stdout",
     "output_type": "stream",
     "text": [
      "✅ Downloaded: 15RWQ1319\n"
     ]
    },
    {
     "name": "stderr",
     "output_type": "stream",
     "text": [
      "Tiles:  18%|█▊        | 6/33 [01:07<04:46, 10.61s/it]"
     ]
    },
    {
     "name": "stdout",
     "output_type": "stream",
     "text": [
      "✅ Downloaded: 15RWQ0719\n"
     ]
    },
    {
     "name": "stderr",
     "output_type": "stream",
     "text": [
      "Tiles:  21%|██        | 7/33 [01:17<04:23, 10.12s/it]"
     ]
    },
    {
     "name": "stdout",
     "output_type": "stream",
     "text": [
      "✅ Downloaded: 15RWQ1419\n"
     ]
    },
    {
     "name": "stderr",
     "output_type": "stream",
     "text": [
      "Tiles:  24%|██▍       | 8/33 [01:27<04:17, 10.30s/it]"
     ]
    },
    {
     "name": "stdout",
     "output_type": "stream",
     "text": [
      "✅ Downloaded: 15RWQ1318\n"
     ]
    },
    {
     "name": "stderr",
     "output_type": "stream",
     "text": [
      "Tiles:  27%|██▋       | 9/33 [01:34<03:44,  9.34s/it]"
     ]
    },
    {
     "name": "stdout",
     "output_type": "stream",
     "text": [
      "✅ Downloaded: 15RWQ1019\n"
     ]
    },
    {
     "name": "stderr",
     "output_type": "stream",
     "text": [
      "Tiles:  30%|███       | 10/33 [01:46<03:48,  9.94s/it]"
     ]
    },
    {
     "name": "stdout",
     "output_type": "stream",
     "text": [
      "✅ Downloaded: 15RWQ1118\n"
     ]
    },
    {
     "name": "stderr",
     "output_type": "stream",
     "text": [
      "Tiles:  33%|███▎      | 11/33 [01:55<03:33,  9.72s/it]"
     ]
    },
    {
     "name": "stdout",
     "output_type": "stream",
     "text": [
      "✅ Downloaded: 15RWQ1220\n"
     ]
    },
    {
     "name": "stderr",
     "output_type": "stream",
     "text": [
      "Tiles:  36%|███▋      | 12/33 [02:05<03:28,  9.94s/it]"
     ]
    },
    {
     "name": "stdout",
     "output_type": "stream",
     "text": [
      "✅ Downloaded: 15RWQ1418\n"
     ]
    },
    {
     "name": "stderr",
     "output_type": "stream",
     "text": [
      "Tiles:  39%|███▉      | 13/33 [02:20<03:45, 11.29s/it]"
     ]
    },
    {
     "name": "stdout",
     "output_type": "stream",
     "text": [
      "✅ Downloaded: 15RWQ0920\n"
     ]
    },
    {
     "name": "stderr",
     "output_type": "stream",
     "text": [
      "Tiles:  42%|████▏     | 14/33 [02:29<03:20, 10.54s/it]"
     ]
    },
    {
     "name": "stdout",
     "output_type": "stream",
     "text": [
      "✅ Downloaded: 15RWQ1420\n"
     ]
    },
    {
     "name": "stderr",
     "output_type": "stream",
     "text": [
      "Tiles:  45%|████▌     | 15/33 [02:36<02:51,  9.54s/it]"
     ]
    },
    {
     "name": "stdout",
     "output_type": "stream",
     "text": [
      "✅ Downloaded: 15RWQ0518\n"
     ]
    },
    {
     "name": "stderr",
     "output_type": "stream",
     "text": [
      "Tiles:  48%|████▊     | 16/33 [02:45<02:42,  9.55s/it]"
     ]
    },
    {
     "name": "stdout",
     "output_type": "stream",
     "text": [
      "✅ Downloaded: 15RWQ1320\n"
     ]
    },
    {
     "name": "stderr",
     "output_type": "stream",
     "text": [
      "Tiles:  52%|█████▏    | 17/33 [02:58<02:47, 10.49s/it]"
     ]
    },
    {
     "name": "stdout",
     "output_type": "stream",
     "text": [
      "✅ Downloaded: 15RWQ0919\n"
     ]
    },
    {
     "name": "stderr",
     "output_type": "stream",
     "text": [
      "Tiles:  55%|█████▍    | 18/33 [03:05<02:23,  9.54s/it]"
     ]
    },
    {
     "name": "stdout",
     "output_type": "stream",
     "text": [
      "✅ Downloaded: 15RWQ1119\n"
     ]
    },
    {
     "name": "stderr",
     "output_type": "stream",
     "text": [
      "Tiles:  58%|█████▊    | 19/33 [03:14<02:10,  9.33s/it]"
     ]
    },
    {
     "name": "stdout",
     "output_type": "stream",
     "text": [
      "✅ Downloaded: 15RWQ1520\n"
     ]
    },
    {
     "name": "stderr",
     "output_type": "stream",
     "text": [
      "Tiles:  61%|██████    | 20/33 [03:35<02:46, 12.79s/it]"
     ]
    },
    {
     "name": "stdout",
     "output_type": "stream",
     "text": [
      "✅ Downloaded: 15RWQ0820\n"
     ]
    },
    {
     "name": "stderr",
     "output_type": "stream",
     "text": [
      "Tiles:  64%|██████▎   | 21/33 [03:45<02:23, 11.93s/it]"
     ]
    },
    {
     "name": "stdout",
     "output_type": "stream",
     "text": [
      "✅ Downloaded: 15RWQ1020\n"
     ]
    },
    {
     "name": "stderr",
     "output_type": "stream",
     "text": [
      "Tiles:  67%|██████▋   | 22/33 [03:58<02:14, 12.24s/it]"
     ]
    },
    {
     "name": "stdout",
     "output_type": "stream",
     "text": [
      "✅ Downloaded: 15RWQ1518\n"
     ]
    },
    {
     "name": "stderr",
     "output_type": "stream",
     "text": [
      "Tiles:  70%|██████▉   | 23/33 [04:10<02:01, 12.20s/it]"
     ]
    },
    {
     "name": "stdout",
     "output_type": "stream",
     "text": [
      "✅ Downloaded: 15RWQ0918\n"
     ]
    },
    {
     "name": "stderr",
     "output_type": "stream",
     "text": [
      "Tiles:  73%|███████▎  | 24/33 [04:21<01:47, 11.93s/it]"
     ]
    },
    {
     "name": "stdout",
     "output_type": "stream",
     "text": [
      "✅ Downloaded: 15RWQ0718\n"
     ]
    },
    {
     "name": "stderr",
     "output_type": "stream",
     "text": [
      "Tiles:  76%|███████▌  | 25/33 [04:29<01:24, 10.62s/it]"
     ]
    },
    {
     "name": "stdout",
     "output_type": "stream",
     "text": [
      "✅ Downloaded: 15RWQ1120\n"
     ]
    },
    {
     "name": "stderr",
     "output_type": "stream",
     "text": [
      "Tiles:  79%|███████▉  | 26/33 [04:39<01:12, 10.42s/it]"
     ]
    },
    {
     "name": "stdout",
     "output_type": "stream",
     "text": [
      "✅ Downloaded: 15RWQ1219\n"
     ]
    },
    {
     "name": "stderr",
     "output_type": "stream",
     "text": [
      "Tiles:  82%|████████▏ | 27/33 [04:51<01:04, 10.81s/it]"
     ]
    },
    {
     "name": "stdout",
     "output_type": "stream",
     "text": [
      "✅ Downloaded: 15RWQ0620\n"
     ]
    },
    {
     "name": "stderr",
     "output_type": "stream",
     "text": [
      "Tiles:  85%|████████▍ | 28/33 [04:59<00:50, 10.08s/it]"
     ]
    },
    {
     "name": "stdout",
     "output_type": "stream",
     "text": [
      "✅ Downloaded: 15RWQ1519\n"
     ]
    },
    {
     "name": "stderr",
     "output_type": "stream",
     "text": [
      "Tiles:  88%|████████▊ | 29/33 [05:11<00:42, 10.66s/it]"
     ]
    },
    {
     "name": "stdout",
     "output_type": "stream",
     "text": [
      "✅ Downloaded: 15RWQ0520\n"
     ]
    },
    {
     "name": "stderr",
     "output_type": "stream",
     "text": [
      "Tiles:  91%|█████████ | 30/33 [05:20<00:30, 10.30s/it]"
     ]
    },
    {
     "name": "stdout",
     "output_type": "stream",
     "text": [
      "✅ Downloaded: 15RWQ0619\n"
     ]
    },
    {
     "name": "stderr",
     "output_type": "stream",
     "text": [
      "Tiles:  94%|█████████▍| 31/33 [05:33<00:21, 10.83s/it]"
     ]
    },
    {
     "name": "stdout",
     "output_type": "stream",
     "text": [
      "✅ Downloaded: 15RWQ0720\n"
     ]
    },
    {
     "name": "stderr",
     "output_type": "stream",
     "text": [
      "Tiles:  97%|█████████▋| 32/33 [05:42<00:10, 10.36s/it]"
     ]
    },
    {
     "name": "stdout",
     "output_type": "stream",
     "text": [
      "✅ Downloaded: 15RWQ0519\n"
     ]
    },
    {
     "name": "stderr",
     "output_type": "stream",
     "text": [
      "Tiles: 100%|██████████| 33/33 [05:54<00:00, 10.73s/it]"
     ]
    },
    {
     "name": "stdout",
     "output_type": "stream",
     "text": [
      "✅ Downloaded: 15RWQ1018\n",
      "Done.\n"
     ]
    },
    {
     "name": "stderr",
     "output_type": "stream",
     "text": [
      "\n"
     ]
    }
   ],
   "source": [
    "print(\"Starting download...\")\n",
    "for tile in tqdm(df[column_name], desc=\"Tiles\"):\n",
    "    download_tile(tile, links, base_url, save_dir)\n",
    "\n",
    "print(\"Done.\")"
   ]
  },
  {
   "cell_type": "code",
   "execution_count": null,
   "id": "dfd8fdce",
   "metadata": {},
   "outputs": [],
   "source": []
  }
 ],
 "metadata": {
  "kernelspec": {
   "display_name": "Python 3",
   "language": "python",
   "name": "python3"
  },
  "language_info": {
   "codemirror_mode": {
    "name": "ipython",
    "version": 3
   },
   "file_extension": ".py",
   "mimetype": "text/x-python",
   "name": "python",
   "nbconvert_exporter": "python",
   "pygments_lexer": "ipython3",
   "version": "3.13.3"
  }
 },
 "nbformat": 4,
 "nbformat_minor": 5
}
